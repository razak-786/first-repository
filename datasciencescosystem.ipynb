{
 "cells": [
  {
   "cell_type": "markdown",
   "id": "d06481d1-c0e8-4267-a100-3626662ea3cf",
   "metadata": {},
   "source": [
    "**data science tools and ecosystem**\n"
   ]
  },
  {
   "cell_type": "markdown",
   "id": "a96fb147-95ce-494c-acb9-a7a454dc9cd1",
   "metadata": {},
   "source": [
    "In this notebook, Data Science Tools and Ecosystem are summarized."
   ]
  },
  {
   "cell_type": "markdown",
   "id": "d7fc6ca9-ad56-4128-aa94-ebe23d79b06f",
   "metadata": {},
   "source": [
    "Some of the popular languages that Data Scientists use are:"
   ]
  },
  {
   "cell_type": "markdown",
   "id": "c3d91835-3468-4e09-8553-d51d418342d9",
   "metadata": {},
   "source": [
    "1. Python \n",
    "2. Java\n",
    "3. C\n",
    "4. R"
   ]
  },
  {
   "cell_type": "markdown",
   "id": "7862a81f-e4c6-4d13-ab91-97aed72b9653",
   "metadata": {},
   "source": [
    "**Objectives:** "
   ]
  },
  {
   "cell_type": "markdown",
   "id": "afcb82c7-122f-49db-8dfc-f306fd5e6de1",
   "metadata": {},
   "source": [
    "unordered list\n"
   ]
  },
  {
   "cell_type": "markdown",
   "id": "0964604a-1d7c-4202-b958-8a4f4dd2828d",
   "metadata": {},
   "source": [
    "* Python\n",
    "* Java\n",
    "* C\n",
    "* R"
   ]
  },
  {
   "cell_type": "markdown",
   "id": "59fb69d9-227f-4a05-b788-70deee515506",
   "metadata": {},
   "source": [
    "List popular languages for Data Science."
   ]
  },
  {
   "cell_type": "markdown",
   "id": "7ac51ec3-ab3d-4e87-9088-f81eccadb117",
   "metadata": {},
   "source": [
    "Some of the commonly used libraries used by Data Scientists include:"
   ]
  },
  {
   "cell_type": "code",
   "execution_count": null,
   "id": "28a132d8-e58d-4e81-b5ef-d5ea05c7436a",
   "metadata": {},
   "outputs": [],
   "source": []
  },
  {
   "cell_type": "markdown",
   "id": "eef23462-3d8f-40b2-bdbe-e6eaf9a9ee7b",
   "metadata": {},
   "source": [
    "ordered list"
   ]
  },
  {
   "cell_type": "markdown",
   "id": "a078b1f1-86b2-4b88-8d5c-35b9d92e754f",
   "metadata": {},
   "source": [
    "1. Python libraries \n",
    "2. scala libraries\n",
    "3. R ligraries"
   ]
  },
  {
   "cell_type": "markdown",
   "id": "b9044721-dbb5-476e-bc0b-eee23cfa343a",
   "metadata": {},
   "source": [
    "|data science toools|\n",
    "|-------------------|\n",
    "|jupyter notebook|\n",
    "|r studio|\n",
    "|jupyter lab|"
   ]
  },
  {
   "cell_type": "markdown",
   "id": "2d733be5-2a24-4e6b-9899-aa110a377160",
   "metadata": {},
   "source": [
    "***Below are a few examples of evaluating arithmetic expressions in Python***"
   ]
  },
  {
   "cell_type": "code",
   "execution_count": 1,
   "id": "430cfcba-56fe-430f-92e6-9225e7936c21",
   "metadata": {
    "tags": []
   },
   "outputs": [
    {
     "data": {
      "text/plain": [
       "17"
      ]
     },
     "execution_count": 1,
     "metadata": {},
     "output_type": "execute_result"
    }
   ],
   "source": [
    "#This a simple arithmetic expression to mutiply then add integers\n",
    "(3*4)+5\n"
   ]
  },
  {
   "cell_type": "code",
   "execution_count": 2,
   "id": "c619126f-09d9-46bf-81f3-13ac055ae0e0",
   "metadata": {
    "tags": []
   },
   "outputs": [
    {
     "data": {
      "text/plain": [
       "20"
      ]
     },
     "execution_count": 2,
     "metadata": {},
     "output_type": "execute_result"
    }
   ],
   "source": [
    "#This will convert 200 minutes to hours by diving by 60.\n",
    "200%60"
   ]
  },
  {
   "cell_type": "code",
   "execution_count": 3,
   "id": "f7d95627-d6c1-4846-9a1e-00fc162ebd56",
   "metadata": {
    "tags": []
   },
   "outputs": [
    {
     "data": {
      "text/plain": [
       "3.3333333333333335"
      ]
     },
     "execution_count": 3,
     "metadata": {},
     "output_type": "execute_result"
    }
   ],
   "source": [
    "#This will convert 200 minutes to hours by diving by 60.\n",
    "200/60"
   ]
  },
  {
   "cell_type": "markdown",
   "id": "c420394d-1e52-4681-b066-a8a0ebe648c4",
   "metadata": {},
   "source": [
    "*f"
   ]
  },
  {
   "cell_type": "markdown",
   "id": "8e50c47d-cb58-4756-aab5-d7d134859a74",
   "metadata": {},
   "source": [
    "**Author**"
   ]
  },
  {
   "cell_type": "markdown",
   "id": "1d24a690-0536-44c4-b673-cf71b5892726",
   "metadata": {},
   "source": [
    "Razak"
   ]
  },
  {
   "cell_type": "code",
   "execution_count": null,
   "id": "af4f07f0-bdc9-4943-8ab0-a30c9c50e5d5",
   "metadata": {},
   "outputs": [],
   "source": []
  }
 ],
 "metadata": {
  "kernelspec": {
   "display_name": "Python 3 (ipykernel)",
   "language": "python",
   "name": "python3"
  },
  "language_info": {
   "codemirror_mode": {
    "name": "ipython",
    "version": 3
   },
   "file_extension": ".py",
   "mimetype": "text/x-python",
   "name": "python",
   "nbconvert_exporter": "python",
   "pygments_lexer": "ipython3",
   "version": "3.11.5"
  }
 },
 "nbformat": 4,
 "nbformat_minor": 5
}
